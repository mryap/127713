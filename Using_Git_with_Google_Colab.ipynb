{
  "nbformat": 4,
  "nbformat_minor": 0,
  "metadata": {
    "colab": {
      "name": "Using Git with Google Colab",
      "version": "0.3.2",
      "provenance": [],
      "collapsed_sections": [],
      "toc_visible": true,
      "include_colab_link": true
    },
    "kernelspec": {
      "display_name": "Python 3",
      "name": "python3"
    }
  },
  "cells": [
    {
      "cell_type": "markdown",
      "metadata": {
        "id": "view-in-github",
        "colab_type": "text"
      },
      "source": [
        "<a href=\"https://colab.research.google.com/github/mryap/127713/blob/master/Using_Git_with_Google_Colab.ipynb\" target=\"_parent\"><img src=\"https://colab.research.google.com/assets/colab-badge.svg\" alt=\"Open In Colab\"/></a>"
      ]
    },
    {
      "cell_type": "markdown",
      "metadata": {
        "id": "3-PM_o5D3fAA",
        "colab_type": "text"
      },
      "source": [
        "### Using Git with Google Colab\n"
      ]
    },
    {
      "cell_type": "code",
      "metadata": {
        "id": "Og43S9k63DJV",
        "colab_type": "code",
        "outputId": "bec1b364-eb79-4a53-ad32-3a4d3937fbc7",
        "colab": {
          "base_uri": "https://localhost:8080/",
          "height": 102
        }
      },
      "source": [
        "!git clone https://github.com/fastai/courses.git"
      ],
      "execution_count": 0,
      "outputs": [
        {
          "output_type": "stream",
          "text": [
            "Cloning into 'courses'...\n",
            "remote: Enumerating objects: 765, done.\u001b[K\n",
            "remote: Total 765 (delta 0), reused 0 (delta 0), pack-reused 765\n",
            "Receiving objects: 100% (765/765), 23.06 MiB | 30.04 MiB/s, done.\n",
            "Resolving deltas: 100% (407/407), done.\n"
          ],
          "name": "stdout"
        }
      ]
    },
    {
      "cell_type": "code",
      "metadata": {
        "id": "GnCFvwUO3JYY",
        "colab_type": "code",
        "outputId": "762afbfc-ca52-4174-8131-b29451bfd9e4",
        "colab": {
          "base_uri": "https://localhost:8080/",
          "height": 68
        }
      },
      "source": [
        "ls -l\n"
      ],
      "execution_count": 0,
      "outputs": [
        {
          "output_type": "stream",
          "text": [
            "total 8\n",
            "drwxr-xr-x 6 root root 4096 Jun  8 16:10 \u001b[0m\u001b[01;34mcourses\u001b[0m/\n",
            "drwxr-xr-x 1 root root 4096 May 31 16:17 \u001b[01;34msample_data\u001b[0m/\n"
          ],
          "name": "stdout"
        }
      ]
    },
    {
      "cell_type": "code",
      "metadata": {
        "id": "ucr1fdvb3SYP",
        "colab_type": "code",
        "outputId": "28fe1e1f-d046-43d1-90c8-389d9a30b359",
        "colab": {
          "base_uri": "https://localhost:8080/",
          "height": 34
        }
      },
      "source": [
        "cd courses\n"
      ],
      "execution_count": 0,
      "outputs": [
        {
          "output_type": "stream",
          "text": [
            "/content/courses\n"
          ],
          "name": "stdout"
        }
      ]
    },
    {
      "cell_type": "code",
      "metadata": {
        "id": "B2A9prB33V6H",
        "colab_type": "code",
        "outputId": "b8842f27-6b9c-4ad5-89cf-8fe4986da032",
        "colab": {
          "base_uri": "https://localhost:8080/",
          "height": 136
        }
      },
      "source": [
        "ls -l\n"
      ],
      "execution_count": 0,
      "outputs": [
        {
          "output_type": "stream",
          "text": [
            "total 32\n",
            "drwxr-xr-x 4 root root  4096 Jun  8 16:10 \u001b[0m\u001b[01;34mdeeplearning1\u001b[0m/\n",
            "drwxr-xr-x 2 root root  4096 Jun  8 16:10 \u001b[01;34mdeeplearning2\u001b[0m/\n",
            "-rw-r--r-- 1 root root 11357 Jun  8 16:10 LICENSE.txt\n",
            "-rw-r--r-- 1 root root   786 Jun  8 16:10 README.md\n",
            "-rw-r--r-- 1 root root    88 Jun  8 16:10 requirements.txt\n",
            "drwxr-xr-x 2 root root  4096 Jun  8 16:10 \u001b[01;34msetup\u001b[0m/\n"
          ],
          "name": "stdout"
        }
      ]
    },
    {
      "cell_type": "markdown",
      "metadata": {
        "colab_type": "text",
        "id": "GJBs_flRovLc"
      },
      "source": [
        "## Getting Started\n",
        "\n",
        "The document you are reading is a  [Jupyter notebook](https://jupyter.org/), hosted in Colaboratory. It is not a static page, but an interactive environment that lets you write and execute code in Python and other languages.\n",
        "\n",
        "For example, here is a **code cell** with a short Python script that computes a value, stores it in a variable, and prints the result:"
      ]
    },
    {
      "cell_type": "code",
      "metadata": {
        "colab_type": "code",
        "id": "gJr_9dXGpJ05",
        "outputId": "5626194c-e802-4293-942d-2908885c3c1f",
        "colab": {
          "height": 35
        }
      },
      "source": [
        "seconds_in_a_day = 24 * 60 * 60\n",
        "seconds_in_a_day"
      ],
      "execution_count": 0,
      "outputs": [
        {
          "output_type": "execute_result",
          "data": {
            "text/plain": [
              "86400"
            ]
          },
          "metadata": {
            "tags": []
          },
          "execution_count": 0
        }
      ]
    },
    {
      "cell_type": "markdown",
      "metadata": {
        "colab_type": "text",
        "id": "2fhs6GZ4qFMx"
      },
      "source": [
        "To execute the code in the above cell, select it with a click and then either press the play button to the left of the code, or use the keyboard shortcut \"Command/Ctrl+Enter\".\n",
        "\n",
        "All cells modify the same global state, so variables that you define by executing a cell can be used in other cells:"
      ]
    },
    {
      "cell_type": "code",
      "metadata": {
        "colab_type": "code",
        "id": "-gE-Ez1qtyIA",
        "outputId": "8d2e4259-4682-4e19-b683-7b9087f28820",
        "colab": {
          "height": 35
        }
      },
      "source": [
        "seconds_in_a_week = 7 * seconds_in_a_day\n",
        "seconds_in_a_week"
      ],
      "execution_count": 0,
      "outputs": [
        {
          "output_type": "execute_result",
          "data": {
            "text/plain": [
              "604800"
            ]
          },
          "metadata": {
            "tags": []
          },
          "execution_count": 0
        }
      ]
    },
    {
      "cell_type": "markdown",
      "metadata": {
        "colab_type": "text",
        "id": "lSrWNr3MuFUS"
      },
      "source": [
        "For more information about working with Colaboratory notebooks, see [Overview of Colaboratory](/notebooks/basic_features_overview.ipynb).\n"
      ]
    },
    {
      "cell_type": "markdown",
      "metadata": {
        "id": "cy-i5p5e4jrF",
        "colab_type": "text"
      },
      "source": [
        "## Hire Yap\n",
        "\n",
        "### Email me at mryap@live.ie\n",
        "\n",
        "*   Work with content owners to support content strategy through a variety of tactics (eg. SEO)\n",
        "*   Monitor and analyse assets’ traffic and patterns to improve user engagement and service/functionality utilisation\n",
        "*   Identify and continuous optimise user experience (eg. improve navigation experience, optimise conversion and usage, training)\n",
        "*   To work with an innovative team to test and implement new technology/tools (eg. PWA)\n"
      ]
    }
  ]
}